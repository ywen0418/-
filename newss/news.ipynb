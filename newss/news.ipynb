{
 "cells": [
  {
   "cell_type": "code",
   "execution_count": 1,
   "metadata": {},
   "outputs": [],
   "source": [
    "import requests\n",
    "import requests as rq\n",
    "from bs4 import BeautifulSoup\n",
    "import csv\n",
    "import pandas as pd\n",
    "from ckiptagger import data_utils, construct_dictionary, WS, POS, NER"
   ]
  },
  {
   "cell_type": "code",
   "execution_count": 2,
   "metadata": {},
   "outputs": [],
   "source": [
    "news = requests.get('https://news.google.com/topstories?hl=zh-TW&gl=TW&ceid=TW:zh-Hant')\n",
    "soup = BeautifulSoup(news.text,'html.parser')"
   ]
  },
  {
   "cell_type": "code",
   "execution_count": 3,
   "metadata": {},
   "outputs": [],
   "source": [
    "soup_url = soup.findAll('a', {'class': 'VDXfz'}) #list\n",
    "soup_title = soup.findAll('a', {'class': 'DY5T1d RZIKme'})\n",
    "soup_source = soup.findAll('a', {'class': \"wEwyrc AVN2gc uQIVzc Sksgp slhocf\"})"
   ]
  },
  {
   "cell_type": "markdown",
   "metadata": {},
   "source": [
    "標題"
   ]
  },
  {
   "cell_type": "code",
   "execution_count": 4,
   "metadata": {},
   "outputs": [
    {
     "name": "stdout",
     "output_type": "stream",
     "text": [
      "['未提烏克蘭怕被拖累？ 習近平會普丁：與俄就核心利益相互有力支持', '普丁會習近平強調堅守一中 譴責美國在台灣海峽挑釁', '習普會陸媒避談俄烏戰爭CNN:習不支持｜TVBS新聞', '「烏克蘭不能坐視台灣成為犧牲品！」《華郵》專欄：烏克蘭走向抗中友台，民主國家都應效仿', '習蒲會登場！蒲亭堅守一中原則 譴責美國在台海挑釁', '「邊境鬆綁0+7」傳10月上路…時程表流出 指揮中心證實：研議中草案', '幕後》團隊「林志玲」主導低級錯誤不斷 陳時中打了通電話給被排擠的高嘉瑜', '突襲參選引爆國民黨內風暴 陳麗娜遞交退黨聲明書止血', '被批沒有誠信 陳麗娜宣布退國民黨', '【全程字幕】突襲登記惹議！陳麗娜退黨止血柯志恩這樣說@中時新聞網', '陳麗娜申請退出國民黨 陳識明：如果當初麗娜姐肯看我一眼…', '突襲參選引發國民黨內風暴 陳麗娜遞退黨聲明', '張善政報告有問題！ 農委會認定：6篇重複度高「月底前提書面說明」', '農委會指研究報告6篇重複度高 張善政競辦：坦蕩、坦然 會配合說明', '【全程字幕】陳吉仲稱沒保密條款！張善政罕見動怒嗆「睜眼說瞎話」 質問蘇貞昌：怎處理撒謊的部會首長@中時新聞網', '民進黨稱農委會研究報告沒保密問題 批張善政瞎扯', '張善政農委會研究案「已無保密理由」 陳吉仲：將請當事人說明', '今日（9/16）重點新聞報你知', '時力：樂見美國推台灣政策法案助台美關係進展| 聯合新聞網', '痛斥「台灣政策法案」 陸國台辦：徹頭徹尾的惡法提案', '郭正亮：等同宣告美不出兵援台', '疑憂中國反彈台灣代表處更名案改建議性']\n"
     ]
    }
   ],
   "source": [
    "title_list=[]\n",
    "soup_title = soup.findAll('a', {'class': 'DY5T1d RZIKme'})\n",
    "for title in soup_title:\n",
    "    title_text=title.text\n",
    "    #print(title.text)\n",
    "    title_list.append(title_text)\n",
    "print(title_list)"
   ]
  },
  {
   "cell_type": "markdown",
   "metadata": {},
   "source": [
    "媒體來源"
   ]
  },
  {
   "cell_type": "code",
   "execution_count": 5,
   "metadata": {},
   "outputs": [
    {
     "name": "stdout",
     "output_type": "stream",
     "text": [
      "['新頭殼', 'Yahoo奇摩新聞', 'TVBS選新聞', '風傳媒', 'Yahoo奇摩新聞', 'Yahoo奇摩新聞', '風傳媒', '自由時報', 'Yahoo奇摩新聞', '中時新聞網', '自由時報', 'Yahoo奇摩新聞', 'ETtoday新聞雲', 'Yahoo奇摩新聞', '中時新聞網', '聯合新聞網', 'Yahoo奇摩新聞', 'Yahoo奇摩新聞', '聯合新聞網', '中時新聞網 Chinatimes.com', 'Yahoo奇摩新聞', 'TTV LIVE 台視直播']\n"
     ]
    }
   ],
   "source": [
    "source_list=[]\n",
    "soup_source = soup.findAll('a', {'class': \"wEwyrc AVN2gc uQIVzc Sksgp slhocf\"})\n",
    "for source in soup_source:\n",
    "    source_text=source.text\n",
    "    #print(source_text)\n",
    "    source_list.append(source_text)\n",
    "print(source_list)"
   ]
  },
  {
   "cell_type": "markdown",
   "metadata": {},
   "source": [
    "網址"
   ]
  },
  {
   "cell_type": "code",
   "execution_count": 6,
   "metadata": {},
   "outputs": [],
   "source": [
    "url_list=[]\n",
    "soup_url = soup.findAll('a', {'class': 'VDXfz'})\n",
    "for url in soup_url:\n",
    "    #print('https://news.google.com/'+output_url['href'])\n",
    "    url_text='https://news.google.com/'+url['href']\n",
    "    url_list.append(url_text)"
   ]
  },
  {
   "cell_type": "markdown",
   "metadata": {},
   "source": [
    "清單輸出"
   ]
  },
  {
   "cell_type": "code",
   "execution_count": 7,
   "metadata": {},
   "outputs": [],
   "source": [
    "id=0\n",
    "for x in url_list:\n",
    "    with open(\"newslist.txt\", 'a',encoding='utf-8') as f:\n",
    "            write_url=url_list[id]\n",
    "            write_source=source_list[id]\n",
    "            write_title=title_list[id]\n",
    "            f.write('news000'+str(id+1)+' \\t '+write_url+' \\t '+write_source+' \\t '+write_title+'\\n')\n",
    "            #f.write('=========================================\\n')\n",
    "    id+=1"
   ]
  },
  {
   "cell_type": "code",
   "execution_count": 8,
   "metadata": {},
   "outputs": [
    {
     "data": {
      "text/plain": [
       "{'URL': ['https://news.google.com/./articles/CBMiLmh0dHBzOi8vbmV3dGFsay50dy9uZXdzL3ZpZXcvMjAyMi0wOS0xNi84MTc1ODDSATJodHRwczovL25ld3RhbGsudHcvbmV3cy92aWV3L2FtcC8yMDIyLTA5LTE2LzgxNzU4MA?hl=zh-TW&gl=TW&ceid=TW%3Azh-Hant',\n",
       "  'https://news.google.com/./articles/CBMiggJodHRwczovL3R3Lm5ld3MueWFob28uY29tLyVFNiU5OSVBRSVFNCVCOCU4MSVFNiU5QyU4MyVFNyVCRiU5MiVFOCVCRiU5MSVFNSVCOSVCMyVFNSVCQyVCNyVFOCVBQSVCRiVFNyVBOCVCMSVFNSVBMCU4NSVFNSVBRSU4OCVFNCVCOCU4MCVFNCVCOCVBRC0lRTglQUQlQjQlRTglQjIlQUMlRTclQkUlOEUlRTUlOUMlOEIlRTUlOUMlQTglRTUlOEYlQjAlRTclODElQTMlRTYlQjUlQjclRTUlQjMlQkQlRTYlOEMlOTElRTklODclODEtMTMyMDIxMTk4Lmh0bWzSAYoCaHR0cHM6Ly90dy5uZXdzLnlhaG9vLmNvbS9hbXBodG1sLyVFNiU5OSVBRSVFNCVCOCU4MSVFNiU5QyU4MyVFNyVCRiU5MiVFOCVCRiU5MSVFNSVCOSVCMyVFNSVCQyVCNyVFOCVBQSVCRiVFNyVBOCVCMSVFNSVBMCU4NSVFNSVBRSU4OCVFNCVCOCU4MCVFNCVCOCVBRC0lRTglQUQlQjQlRTglQjIlQUMlRTclQkUlOEUlRTUlOUMlOEIlRTUlOUMlQTglRTUlOEYlQjAlRTclODElQTMlRTYlQjUlQjclRTUlQjMlQkQlRTYlOEMlOTElRTklODclODEtMTMyMDIxMTk4Lmh0bWw?hl=zh-TW&gl=TW&ceid=TW%3Azh-Hant',\n",
       "  'https://news.google.com/./articles/CCAiCzVDRzhkeGlYanU0mAEB?hl=zh-TW&gl=TW&ceid=TW%3Azh-Hant',\n",
       "  'https://news.google.com/./articles/CAIiEDUmXJs2pO1O3FIaD82fVdQqGQgEKhAIACoHCAowyM3eCjCko9YBMLOU5wY?uo=CAUiK2h0dHBzOi8vd3d3LnN0b3JtLm1nL2FydGljbGUvNDUyMDI1Nj9wYWdlPTHSAQA&hl=zh-TW&gl=TW&ceid=TW%3Azh-Hant',\n",
       "  'https://news.google.com/./articles/CBMi6QFodHRwczovL3R3Lm5ld3MueWFob28uY29tLyVFNyVCRiU5MiVFOCU5MiVCMiVFNiU5QyU4MyVFNyU5OSVCQiVFNSVBMCVCNC0lRTglOTIlQjIlRTQlQkElQUQlRTUlQTAlODUlRTUlQUUlODgtJUU0JUI4JUFEJUU1JThFJTlGJUU1JTg5JTg3LSVFOCVBRCVCNCVFOCVCMiVBQyVFNyVCRSU4RSVFNSU5QyU4QiVFNSU5QyVBOCVFNSU4RiVCMCVFNiVCNSVCNyVFNiU4QyU5MSVFOSU4NyU4MS0yMjUxNDA0MDUuaHRtbNIB8QFodHRwczovL3R3Lm5ld3MueWFob28uY29tL2FtcGh0bWwvJUU3JUJGJTkyJUU4JTkyJUIyJUU2JTlDJTgzJUU3JTk5JUJCJUU1JUEwJUI0LSVFOCU5MiVCMiVFNCVCQSVBRCVFNSVBMCU4NSVFNSVBRSU4OC0lRTQlQjglQUQlRTUlOEUlOUYlRTUlODklODctJUU4JUFEJUI0JUU4JUIyJUFDJUU3JUJFJThFJUU1JTlDJThCJUU1JTlDJUE4JUU1JThGJUIwJUU2JUI1JUI3JUU2JThDJTkxJUU5JTg3JTgxLTIyNTE0MDQwNS5odG1s?hl=zh-TW&gl=TW&ceid=TW%3Azh-Hant',\n",
       "  'https://news.google.com/./articles/CBMi3AFodHRwczovL3R3Lm5ld3MueWFob28uY29tLyVFOSU4MiU4QSVFNSVBMiU4MyVFOSVBQyU4NiVFNyVCNiU4MTAtNy0lRTUlODIlQjMxMCVFNiU5QyU4OCVFNCVCOCU4QSVFOCVCNyVBRi0lRTYlOTklODIlRTclQTglOEIlRTglQTElQTglRTYlQjUlODElRTUlODclQkEtJUU2JThDJTg3JUU2JThGJUFFJUU0JUI4JUFEJUU1JUJGJTgzJUU4JUFEJTg5JUU1JUFGJUE2LTAyMTYyMTE0MC5odG1s0gHkAWh0dHBzOi8vdHcubmV3cy55YWhvby5jb20vYW1waHRtbC8lRTklODIlOEElRTUlQTIlODMlRTklQUMlODYlRTclQjYlODEwLTctJUU1JTgyJUIzMTAlRTYlOUMlODglRTQlQjglOEElRTglQjclQUYtJUU2JTk5JTgyJUU3JUE4JThCJUU4JUExJUE4JUU2JUI1JTgxJUU1JTg3JUJBLSVFNiU4QyU4NyVFNiU4RiVBRSVFNCVCOCVBRCVFNSVCRiU4MyVFOCVBRCU4OSVFNSVBRiVBNi0wMjE2MjExNDAuaHRtbA?hl=zh-TW&gl=TW&ceid=TW%3Azh-Hant',\n",
       "  'https://news.google.com/./articles/CBMiJGh0dHBzOi8vd3d3LnN0b3JtLm1nL2FydGljbGUvNDUyMDk0NNIBAA?hl=zh-TW&gl=TW&ceid=TW%3Azh-Hant',\n",
       "  'https://news.google.com/./articles/CBMiOmh0dHBzOi8vbmV3cy5sdG4uY29tLnR3L25ld3MvcG9saXRpY3MvYnJlYWtpbmduZXdzLzQwNTk2NDjSAT5odHRwczovL25ld3MubHRuLmNvbS50dy9hbXAvbmV3cy9wb2xpdGljcy9icmVha2luZ25ld3MvNDA1OTY0OA?hl=zh-TW&gl=TW&ceid=TW%3Azh-Hant',\n",
       "  'https://news.google.com/./articles/CBMisQFodHRwczovL3R3Lm5ld3MueWFob28uY29tLyVFOCVBMiVBQiVFNiU4OSVCOSVFNiVCMiU5MiVFNiU5QyU4OSVFOCVBQSVBMCVFNCVCRiVBMS0lRTklOTklQjMlRTklQkElOTclRTUlQTglOUMlRTUlQUUlQTMlRTUlQjglODMlRTklODAlODAlRTUlOUMlOEIlRTYlQjAlOTElRTklQkIlQTgtMjE1NDQ2MDkwLmh0bWzSAbkBaHR0cHM6Ly90dy5uZXdzLnlhaG9vLmNvbS9hbXBodG1sLyVFOCVBMiVBQiVFNiU4OSVCOSVFNiVCMiU5MiVFNiU5QyU4OSVFOCVBQSVBMCVFNCVCRiVBMS0lRTklOTklQjMlRTklQkElOTclRTUlQTglOUMlRTUlQUUlQTMlRTUlQjglODMlRTklODAlODAlRTUlOUMlOEIlRTYlQjAlOTElRTklQkIlQTgtMjE1NDQ2MDkwLmh0bWw?hl=zh-TW&gl=TW&ceid=TW%3Azh-Hant',\n",
       "  'https://news.google.com/./articles/CCAiC2xnRUswR3RJX3NJmAEB?hl=zh-TW&gl=TW&ceid=TW%3Azh-Hant',\n",
       "  'https://news.google.com/./articles/CBMiOmh0dHBzOi8vbmV3cy5sdG4uY29tLnR3L25ld3MvcG9saXRpY3MvYnJlYWtpbmduZXdzLzQwNTk5MzjSAT5odHRwczovL25ld3MubHRuLmNvbS50dy9hbXAvbmV3cy9wb2xpdGljcy9icmVha2luZ25ld3MvNDA1OTkzOA?hl=zh-TW&gl=TW&ceid=TW%3Azh-Hant',\n",
       "  'https://news.google.com/./articles/CBMi3gFodHRwczovL3R3Lm5ld3MueWFob28uY29tLyVFNyVBQSU4MSVFOCVBNSVCMiVFNSU4RiU4MyVFOSU4MSVCOCVFNSVCQyU5NSVFNyU5OSVCQyVFNSU5QyU4QiVFNiVCMCU5MSVFOSVCQiVBOCVFNSU4NSVBNyVFOSVBMiVBOCVFNiU5QSVCNC0lRTklOTklQjMlRTklQkElOTclRTUlQTglOUMlRTklODElOUUlRTklODAlODAlRTklQkIlQTglRTglODElQjIlRTYlOTglOEUtMDQ0MDAzNTUwLmh0bWzSAeYBaHR0cHM6Ly90dy5uZXdzLnlhaG9vLmNvbS9hbXBodG1sLyVFNyVBQSU4MSVFOCVBNSVCMiVFNSU4RiU4MyVFOSU4MSVCOCVFNSVCQyU5NSVFNyU5OSVCQyVFNSU5QyU4QiVFNiVCMCU5MSVFOSVCQiVBOCVFNSU4NSVBNyVFOSVBMiVBOCVFNiU5QSVCNC0lRTklOTklQjMlRTklQkElOTclRTUlQTglOUMlRTklODElOUUlRTklODAlODAlRTklQkIlQTglRTglODElQjIlRTYlOTglOEUtMDQ0MDAzNTUwLmh0bWw?hl=zh-TW&gl=TW&ceid=TW%3Azh-Hant',\n",
       "  'https://news.google.com/./articles/CAIiEAwBt-3Tq8oHTsv7mraIrYsqFwgEKg4IACoGCAowr7I3MKfqBzDPvKwH?uo=CAUiMWh0dHBzOi8vd3d3LmV0dG9kYXkubmV0L25ld3MvMjAyMjA5MTYvMjMzOTQ1NS5odG3SAQA&hl=zh-TW&gl=TW&ceid=TW%3Azh-Hant',\n",
       "  'https://news.google.com/./articles/CBMi2AFodHRwczovL3R3Lm5ld3MueWFob28uY29tLyVFNSVCQyVCNSVFNSU5NiU4NCVFNiU5NCVCRiVFNyVBMCU5NCVFNyVBOSVCNiVFNiVBMSU4OCVFNyU4OCVBRCVFOCVBRCVCMC0lRTglQkUlQjIlRTUlQTclOTQlRTYlOUMlODMlRUYlQkMlOUElRTUlODUlQjYlRTQlQjglQUQtNi0lRTclQUYlODclRTklODclOEQlRTglQTQlODclRTUlQkElQTYlRTklQUIlOTgtMDU1ODI0NzQ5Lmh0bWzSAeABaHR0cHM6Ly90dy5uZXdzLnlhaG9vLmNvbS9hbXBodG1sLyVFNSVCQyVCNSVFNSU5NiU4NCVFNiU5NCVCRiVFNyVBMCU5NCVFNyVBOSVCNiVFNiVBMSU4OCVFNyU4OCVBRCVFOCVBRCVCMC0lRTglQkUlQjIlRTUlQTclOTQlRTYlOUMlODMlRUYlQkMlOUElRTUlODUlQjYlRTQlQjglQUQtNi0lRTclQUYlODclRTklODclOEQlRTglQTQlODclRTUlQkElQTYlRTklQUIlOTgtMDU1ODI0NzQ5Lmh0bWw?hl=zh-TW&gl=TW&ceid=TW%3Azh-Hant',\n",
       "  'https://news.google.com/./articles/CCAiC0ZfZ2JUUjdEYU1nmAEB?hl=zh-TW&gl=TW&ceid=TW%3Azh-Hant',\n",
       "  'https://news.google.com/./articles/CBMiJ2h0dHBzOi8vdWRuLmNvbS9uZXdzL3N0b3J5LzY2NTYvNjYxNDcwNtIBLWh0dHBzOi8vdWRuLmNvbS9uZXdzL2FtcC9zdG9yeS8xMjI2ODIvNjYxNDcwNg?hl=zh-TW&gl=TW&ceid=TW%3Azh-Hant',\n",
       "  'https://news.google.com/./articles/CBMipgJodHRwczovL3R3Lm5ld3MueWFob28uY29tLyVFNSVCQyVCNSVFNSU5NiU4NCVFNiU5NCVCRiVFOCVCRSVCMiVFNSVBNyU5NCVFNiU5QyU4MyVFNyVBMCU5NCVFNyVBOSVCNiVFNiVBMSU4OCVFMyU4MCU4QyVFNSVCNyVCMiVFNyU4NCVBMSVFNCVCRiU5RCVFNSVBRiU4NiVFNyU5MCU4NiVFNyU5NCVCMSVFMyU4MCU4RC0lRTklOTklQjMlRTUlOTAlODklRTQlQkIlQjIlRUYlQkMlOUElRTUlQjAlODclRTglQUIlOEIlRTclOTUlQjYlRTQlQkElOEIlRTQlQkElQkElRTglQUElQUElRTYlOTglOEUtMDM0ODU3NjY5Lmh0bWzSAQA?hl=zh-TW&gl=TW&ceid=TW%3Azh-Hant',\n",
       "  'https://news.google.com/./articles/CBMikQFodHRwczovL3R3Lm5ld3MueWFob28uY29tLyVFNCVCQiU4QSVFNiU5NyVBNSVFRiVCQyU4OC05MTYtJUVGJUJDJTg5JUU5JTg3JThEJUU5JUJCJTlFJUU2JTk2JUIwJUU4JTgxJTlFJUU1JUEwJUIxJUU0JUJEJUEwJUU3JTlGJUE1LTAwMjE1NDA1NS5odG1s0gGZAWh0dHBzOi8vdHcubmV3cy55YWhvby5jb20vYW1waHRtbC8lRTQlQkIlOEElRTYlOTclQTUlRUYlQkMlODgtOTE2LSVFRiVCQyU4OSVFOSU4NyU4RCVFOSVCQiU5RSVFNiU5NiVCMCVFOCU4MSU5RSVFNSVBMCVCMSVFNCVCRCVBMCVFNyU5RiVBNS0wMDIxNTQwNTUuaHRtbA?hl=zh-TW&gl=TW&ceid=TW%3Azh-Hant',\n",
       "  'https://news.google.com/./articles/CBMiKWh0dHBzOi8vdWRuLmNvbS9uZXdzL3N0b3J5LzEyMzAyNS82NjE3MjE50gEA?hl=zh-TW&gl=TW&ceid=TW%3Azh-Hant',\n",
       "  'https://news.google.com/./articles/CBMiPWh0dHBzOi8vd3d3LmNoaW5hdGltZXMuY29tL3JlYWx0aW1lbmV3cy8yMDIyMDkxNTAwNDgxMS0yNjA0MDnSAUFodHRwczovL3d3dy5jaGluYXRpbWVzLmNvbS9hbXAvcmVhbHRpbWVuZXdzLzIwMjIwOTE1MDA0ODExLTI2MDQwOQ?hl=zh-TW&gl=TW&ceid=TW%3Azh-Hant',\n",
       "  'https://news.google.com/./articles/CBMinwFodHRwczovL3R3Lm5ld3MueWFob28uY29tLyVFOSU4MyVBRCVFNiVBRCVBMyVFNCVCQSVBRS0lRTclQUQlODklRTUlOTAlOEMlRTUlQUUlQTMlRTUlOTElOEElRTclQkUlOEUlRTQlQjglOEQlRTUlODclQkElRTUlODUlQjUlRTYlOEYlQjQlRTUlOEYlQjAtMjE0OTAxNTU0Lmh0bWzSAacBaHR0cHM6Ly90dy5uZXdzLnlhaG9vLmNvbS9hbXBodG1sLyVFOSU4MyVBRCVFNiVBRCVBMyVFNCVCQSVBRS0lRTclQUQlODklRTUlOTAlOEMlRTUlQUUlQTMlRTUlOTElOEElRTclQkUlOEUlRTQlQjglOEQlRTUlODclQkElRTUlODUlQjUlRTYlOEYlQjQlRTUlOEYlQjAtMjE0OTAxNTU0Lmh0bWw?hl=zh-TW&gl=TW&ceid=TW%3Azh-Hant',\n",
       "  'https://news.google.com/./articles/CCAiC0FoV0hYdDFIN1lRmAEB?hl=zh-TW&gl=TW&ceid=TW%3Azh-Hant'],\n",
       " 'Source': ['新頭殼',\n",
       "  'Yahoo奇摩新聞',\n",
       "  'TVBS選新聞',\n",
       "  '風傳媒',\n",
       "  'Yahoo奇摩新聞',\n",
       "  'Yahoo奇摩新聞',\n",
       "  '風傳媒',\n",
       "  '自由時報',\n",
       "  'Yahoo奇摩新聞',\n",
       "  '中時新聞網',\n",
       "  '自由時報',\n",
       "  'Yahoo奇摩新聞',\n",
       "  'ETtoday新聞雲',\n",
       "  'Yahoo奇摩新聞',\n",
       "  '中時新聞網',\n",
       "  '聯合新聞網',\n",
       "  'Yahoo奇摩新聞',\n",
       "  'Yahoo奇摩新聞',\n",
       "  '聯合新聞網',\n",
       "  '中時新聞網 Chinatimes.com',\n",
       "  'Yahoo奇摩新聞',\n",
       "  'TTV LIVE 台視直播']}"
      ]
     },
     "execution_count": 8,
     "metadata": {},
     "output_type": "execute_result"
    }
   ],
   "source": [
    "url_dict={\"URL\":url_list,\"Source\":source_list}\n",
    "url_dict"
   ]
  },
  {
   "cell_type": "markdown",
   "metadata": {},
   "source": [
    "輸出csv檔"
   ]
  },
  {
   "cell_type": "code",
   "execution_count": 9,
   "metadata": {},
   "outputs": [],
   "source": [
    "df = pd.DataFrame(url_dict) \n",
    "df.to_csv('URL.csv',index=False)"
   ]
  },
  {
   "cell_type": "markdown",
   "metadata": {},
   "source": [
    "過濾程式"
   ]
  },
  {
   "cell_type": "code",
   "execution_count": 10,
   "metadata": {},
   "outputs": [],
   "source": [
    "def not_empty(s):\n",
    "    return s and s.strip()"
   ]
  },
  {
   "cell_type": "markdown",
   "metadata": {},
   "source": [
    "讀取csv從清單爬資料，須先建立一個output資料夾到當前目錄底下"
   ]
  },
  {
   "cell_type": "code",
   "execution_count": 12,
   "metadata": {},
   "outputs": [],
   "source": [
    "num=0\n",
    "with open(\"URL.csv\",'r',encoding='utf-8') as csvfile:\n",
    "    data = csv.DictReader(csvfile)\n",
    "    for num,url_dict in enumerate(data):\n",
    "        #print(url_dict[\"URL\"])\n",
    "        #print(type(url_dict))\n",
    "        #print(type(data))\n",
    "        #print(num)\n",
    "        post=requests.get(url_dict[\"URL\"])\n",
    "        post_soup=BeautifulSoup(post.text,'html.parser')\n",
    "\n",
    "        if url_dict[\"Source\"] == '聯合新聞網':\n",
    "            post_text = post_soup.findAll('div', {'class': 'article-content__paragraph'})\n",
    "\n",
    "        elif url_dict[\"Source\"] == 'Yahoo奇摩新聞' :\n",
    "            post_text = post_soup.findAll('div', {'class': 'caas-body'})\n",
    "\n",
    "        elif url_dict[\"Source\"] == '自由時報' :\n",
    "            post_text = post_soup.findAll('div', {'class': 'text boxTitle boxText'})\n",
    "            \n",
    "        elif url_dict[\"Source\"] == '新頭殼' :\n",
    "            post_text = post_soup.findAll('div', {'class': 'fontsize news-content'})\n",
    "            \n",
    "        elif url_dict[\"Source\"] == '中時新聞網 Chinatimes.com' :\n",
    "            post_text = post_soup.findAll('div', {'class': 'article-body'})\n",
    "\n",
    "        elif url_dict[\"Source\"] == 'ETtoday新聞雲' :\n",
    "            post_text = post_soup.findAll('div', {'class': 'story'})\n",
    "\n",
    "        elif url_dict[\"Source\"] == '三立新聞' :\n",
    "            post_text = post_soup.findAll('artical', {'class': 'printdiv'})\n",
    "\n",
    "        elif url_dict[\"Source\"] == '中央社即時新聞' :\n",
    "            post_text = post_soup.findAll('div', {'class': 'paragraph'})\n",
    "\n",
    "        elif url_dict[\"Source\"] == '聯合報' :\n",
    "            post_text = post_soup.findAll('div', {'class': 'article-content__paragraph'})\n",
    "\n",
    "        else:\n",
    "            continue\n",
    "\n",
    "        for post_text_ele in post_text:\n",
    "            post_text_=post_text_ele.text\n",
    "            post_text_split=list(filter(not_empty, post_text_.splitlines()))\n",
    "            for sentence in post_text_split:\n",
    "                strip_sentence=sentence.strip()\n",
    "                if strip_sentence not in ['點我下載APP','按我看活動辦法','不用抽 不用搶 現在用APP看新聞 保證天天中獎']:\n",
    "                    with open(\"./output/news000\"+str(num+1)+\".txt\", 'a',encoding='utf-8') as f:\n",
    "                        f.write(strip_sentence+'\\n')\n",
    "\n",
    "        "
   ]
  },
  {
   "cell_type": "markdown",
   "metadata": {},
   "source": [
    "執行下載模型 data.zip 到我們當前目錄底下，只須執行一次"
   ]
  },
  {
   "cell_type": "code",
   "execution_count": 13,
   "metadata": {},
   "outputs": [
    {
     "name": "stderr",
     "output_type": "stream",
     "text": [
      "Downloading...\n",
      "From: https://drive.google.com/uc?id=1efHsY16pxK0lBD2gYCgCTnv1Swstq771\n",
      "To: c:\\Users\\Yuwen\\Desktop\\PY\\py\\newss\\data.zip\n",
      "100%|██████████| 1.88G/1.88G [03:36<00:00, 8.65MB/s]\n"
     ]
    }
   ],
   "source": [
    "# -*- coding: utf-8 -*-\n",
    "from ckiptagger import data_utils\n",
    "data_utils.download_data_gdown(\"./\")"
   ]
  },
  {
   "cell_type": "markdown",
   "metadata": {},
   "source": [
    "斷詞"
   ]
  },
  {
   "cell_type": "code",
   "execution_count": 14,
   "metadata": {},
   "outputs": [
    {
     "name": "stderr",
     "output_type": "stream",
     "text": [
      "c:\\Users\\Yuwen\\Anaconda3\\envs\\news\\lib\\site-packages\\ckiptagger\\model_ws.py:106: UserWarning: `tf.nn.rnn_cell.LSTMCell` is deprecated and will be removed in a future version. This class is equivalent as `tf.keras.layers.LSTMCell`, and will be replaced by that in Tensorflow 2.0.\n",
      "  cell = tf.compat.v1.nn.rnn_cell.LSTMCell(hidden_d, name=name)\n"
     ]
    }
   ],
   "source": [
    "open_num=0\n",
    "\n",
    "for open_num in range(30):\n",
    "    try:\n",
    "        with open(\"./output/news000\"+str(open_num+1)+\".txt\",'r',encoding='utf-8') as f:\n",
    "            doc_text = f.read()\n",
    "            ws = WS(\"./data\")\n",
    "            ws_results = ws([doc_text])\n",
    "\n",
    "        \n",
    "        #print(ws_results[0])\n",
    "        for ws_word in ws_results[0]:\n",
    "            with open(\"./news000\"+str(open_num+1)+\".txt\", 'a',encoding='utf-8') as f:\n",
    "                    f.write(ws_word+' ')\n",
    "        #print(doc_text)\n",
    "        #print(\"==\")\n",
    "    \n",
    "    except OSError as e:\n",
    "        #print(\"沒有\")\n",
    "        continue\n",
    "        "
   ]
  }
 ],
 "metadata": {
  "kernelspec": {
   "display_name": "Python 3.9.13 ('news')",
   "language": "python",
   "name": "python3"
  },
  "language_info": {
   "codemirror_mode": {
    "name": "ipython",
    "version": 3
   },
   "file_extension": ".py",
   "mimetype": "text/x-python",
   "name": "python",
   "nbconvert_exporter": "python",
   "pygments_lexer": "ipython3",
   "version": "3.9.13"
  },
  "orig_nbformat": 4,
  "vscode": {
   "interpreter": {
    "hash": "a574f24e336f3ef0da3d8c6176fbee7119a98687abe6d0463c7f9fae0c0dcba6"
   }
  }
 },
 "nbformat": 4,
 "nbformat_minor": 2
}
